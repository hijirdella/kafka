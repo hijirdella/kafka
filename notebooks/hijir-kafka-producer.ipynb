{
 "cells": [
  {
   "cell_type": "code",
   "execution_count": 7,
   "id": "199d5dc1-92bc-4b08-be22-cf4dc2f411cf",
   "metadata": {
    "tags": []
   },
   "outputs": [],
   "source": [
    "import json\n",
    "import uuid\n",
    "import os\n",
    "import json\n",
    "from dotenv import load_dotenv\n",
    "from pathlib import Path\n",
    "from kafka import KafkaProducer\n",
    "from faker import Faker\n",
    "from time import sleep"
   ]
  },
  {
   "cell_type": "code",
   "execution_count": 8,
   "id": "05eba992-6822-453a-a6c8-017efa308d89",
   "metadata": {
    "tags": []
   },
   "outputs": [
    {
     "data": {
      "text/plain": [
       "True"
      ]
     },
     "execution_count": 8,
     "metadata": {},
     "output_type": "execute_result"
    }
   ],
   "source": [
    "# Using the variables in .env file\n",
    "dotenv_path = Path('/resources/.env')\n",
    "load_dotenv(dotenv_path=dotenv_path)"
   ]
  },
  {
   "cell_type": "code",
   "execution_count": 9,
   "id": "651cafd7-fa91-4af6-aa53-6fa62151f62b",
   "metadata": {
    "tags": []
   },
   "outputs": [],
   "source": [
    "# Testing one of the value inside .env\n",
    "kafka_host = os.getenv('KAFKA_HOST')"
   ]
  },
  {
   "cell_type": "code",
   "execution_count": 10,
   "id": "999a8e41-ce39-4686-958d-03fee9602981",
   "metadata": {
    "tags": []
   },
   "outputs": [],
   "source": [
    "producer = KafkaProducer(bootstrap_servers=f'{kafka_host}:9092')"
   ]
  },
  {
   "cell_type": "code",
   "execution_count": 11,
   "id": "8c6dba2c-d392-4bb0-95b1-9a814b582e05",
   "metadata": {
    "tags": []
   },
   "outputs": [],
   "source": [
    "_instance = Faker()\n",
    "global faker\n",
    "faker = Faker()"
   ]
  },
  {
   "cell_type": "code",
   "execution_count": 16,
   "id": "d7a33f44-e730-466b-a533-5abeb8aa3ef8",
   "metadata": {
    "tags": []
   },
   "outputs": [
    {
     "name": "stdout",
     "output_type": "stream",
     "text": [
      "a6f82d70-c2d4-492a-9726-47f42b7c7c2d RecordMetadata(topic='kafka-hijir', partition=0, topic_partition=TopicPartition(topic='kafka-hijir', partition=0), offset=67, timestamp=1725900222989, log_start_offset=0, checksum=None, serialized_key_size=-1, serialized_value_size=246, serialized_header_size=-1)\n",
      "951ff3c4-0caa-4b89-9e70-ec6ba834edbd RecordMetadata(topic='kafka-hijir', partition=0, topic_partition=TopicPartition(topic='kafka-hijir', partition=0), offset=68, timestamp=1725900228141, log_start_offset=0, checksum=None, serialized_key_size=-1, serialized_value_size=249, serialized_header_size=-1)\n",
      "ac5c9cfd-c6dc-4b50-ac1b-3a9984ccaec4 RecordMetadata(topic='kafka-hijir', partition=0, topic_partition=TopicPartition(topic='kafka-hijir', partition=0), offset=69, timestamp=1725900233374, log_start_offset=0, checksum=None, serialized_key_size=-1, serialized_value_size=251, serialized_header_size=-1)\n",
      "b7a52bbb-93f8-455f-9595-905666e8adf1 RecordMetadata(topic='kafka-hijir', partition=0, topic_partition=TopicPartition(topic='kafka-hijir', partition=0), offset=70, timestamp=1725900238481, log_start_offset=0, checksum=None, serialized_key_size=-1, serialized_value_size=245, serialized_header_size=-1)\n",
      "3831792b-4acd-4dc7-a113-b32cd98d8377 RecordMetadata(topic='kafka-hijir', partition=0, topic_partition=TopicPartition(topic='kafka-hijir', partition=0), offset=71, timestamp=1725900243511, log_start_offset=0, checksum=None, serialized_key_size=-1, serialized_value_size=249, serialized_header_size=-1)\n",
      "1bbc1585-db83-4ec0-9f66-63e8fe62ea5b RecordMetadata(topic='kafka-hijir', partition=0, topic_partition=TopicPartition(topic='kafka-hijir', partition=0), offset=72, timestamp=1725900248531, log_start_offset=0, checksum=None, serialized_key_size=-1, serialized_value_size=248, serialized_header_size=-1)\n",
      "98f2b407-67a1-4e6d-a5d0-aae43d6a1f46 RecordMetadata(topic='kafka-hijir', partition=0, topic_partition=TopicPartition(topic='kafka-hijir', partition=0), offset=73, timestamp=1725900253623, log_start_offset=0, checksum=None, serialized_key_size=-1, serialized_value_size=248, serialized_header_size=-1)\n",
      "239721f6-8f6f-4afa-ad99-30e32e06cdb9 RecordMetadata(topic='kafka-hijir', partition=0, topic_partition=TopicPartition(topic='kafka-hijir', partition=0), offset=74, timestamp=1725900258633, log_start_offset=0, checksum=None, serialized_key_size=-1, serialized_value_size=247, serialized_header_size=-1)\n",
      "e5a9c305-ed9d-4031-8701-1fa90b698888 RecordMetadata(topic='kafka-hijir', partition=0, topic_partition=TopicPartition(topic='kafka-hijir', partition=0), offset=75, timestamp=1725900263648, log_start_offset=0, checksum=None, serialized_key_size=-1, serialized_value_size=252, serialized_header_size=-1)\n",
      "850f1c1f-6fe2-49fa-bfc5-4e36ea868bb3 RecordMetadata(topic='kafka-hijir', partition=0, topic_partition=TopicPartition(topic='kafka-hijir', partition=0), offset=76, timestamp=1725900268683, log_start_offset=0, checksum=None, serialized_key_size=-1, serialized_value_size=255, serialized_header_size=-1)\n",
      "642e0eb3-5aae-4e65-aab0-a74467aa399a RecordMetadata(topic='kafka-hijir', partition=0, topic_partition=TopicPartition(topic='kafka-hijir', partition=0), offset=77, timestamp=1725900273696, log_start_offset=0, checksum=None, serialized_key_size=-1, serialized_value_size=253, serialized_header_size=-1)\n",
      "1d2ff838-2b69-4295-a6f5-e3653c8e4f9d RecordMetadata(topic='kafka-hijir', partition=0, topic_partition=TopicPartition(topic='kafka-hijir', partition=0), offset=78, timestamp=1725900278735, log_start_offset=0, checksum=None, serialized_key_size=-1, serialized_value_size=247, serialized_header_size=-1)\n",
      "6749af49-f019-44db-8438-df2ceb85e0df RecordMetadata(topic='kafka-hijir', partition=0, topic_partition=TopicPartition(topic='kafka-hijir', partition=0), offset=79, timestamp=1725900283967, log_start_offset=0, checksum=None, serialized_key_size=-1, serialized_value_size=247, serialized_header_size=-1)\n",
      "c898bc12-e78c-4363-bb72-8eb5bc0e7c9e RecordMetadata(topic='kafka-hijir', partition=0, topic_partition=TopicPartition(topic='kafka-hijir', partition=0), offset=80, timestamp=1725900289682, log_start_offset=0, checksum=None, serialized_key_size=-1, serialized_value_size=253, serialized_header_size=-1)\n",
      "c3a46f7f-44fa-4d33-9902-9373ecea868d RecordMetadata(topic='kafka-hijir', partition=0, topic_partition=TopicPartition(topic='kafka-hijir', partition=0), offset=81, timestamp=1725900294827, log_start_offset=0, checksum=None, serialized_key_size=-1, serialized_value_size=248, serialized_header_size=-1)\n",
      "8ea1835a-5f8a-41a9-a085-b9243b4e56be RecordMetadata(topic='kafka-hijir', partition=0, topic_partition=TopicPartition(topic='kafka-hijir', partition=0), offset=82, timestamp=1725900299950, log_start_offset=0, checksum=None, serialized_key_size=-1, serialized_value_size=245, serialized_header_size=-1)\n",
      "edba3037-fad4-46e1-9241-ab763aa2fef2 RecordMetadata(topic='kafka-hijir', partition=0, topic_partition=TopicPartition(topic='kafka-hijir', partition=0), offset=83, timestamp=1725900306764, log_start_offset=0, checksum=None, serialized_key_size=-1, serialized_value_size=253, serialized_header_size=-1)\n",
      "7949d6d8-7f2a-4b1c-b3a1-9c4cf9622dea RecordMetadata(topic='kafka-hijir', partition=0, topic_partition=TopicPartition(topic='kafka-hijir', partition=0), offset=84, timestamp=1725900311821, log_start_offset=0, checksum=None, serialized_key_size=-1, serialized_value_size=253, serialized_header_size=-1)\n",
      "7552a6a9-ea94-41bf-b2b9-dd7c52c17372 RecordMetadata(topic='kafka-hijir', partition=0, topic_partition=TopicPartition(topic='kafka-hijir', partition=0), offset=85, timestamp=1725900316834, log_start_offset=0, checksum=None, serialized_key_size=-1, serialized_value_size=247, serialized_header_size=-1)\n",
      "4bf5329c-94c8-4b2f-9918-fbd5c4d04fde RecordMetadata(topic='kafka-hijir', partition=0, topic_partition=TopicPartition(topic='kafka-hijir', partition=0), offset=86, timestamp=1725900323084, log_start_offset=0, checksum=None, serialized_key_size=-1, serialized_value_size=253, serialized_header_size=-1)\n",
      "ce1793d2-fae9-453b-9cf9-6fd9c393f6da RecordMetadata(topic='kafka-hijir', partition=0, topic_partition=TopicPartition(topic='kafka-hijir', partition=0), offset=87, timestamp=1725900329954, log_start_offset=0, checksum=None, serialized_key_size=-1, serialized_value_size=251, serialized_header_size=-1)\n",
      "f00caa46-5407-48a4-b242-eee4351cf79e RecordMetadata(topic='kafka-hijir', partition=0, topic_partition=TopicPartition(topic='kafka-hijir', partition=0), offset=88, timestamp=1725900335955, log_start_offset=0, checksum=None, serialized_key_size=-1, serialized_value_size=253, serialized_header_size=-1)\n",
      "40e5389b-2c6b-4e6c-8863-8d1f3e408837 RecordMetadata(topic='kafka-hijir', partition=0, topic_partition=TopicPartition(topic='kafka-hijir', partition=0), offset=89, timestamp=1725900341377, log_start_offset=0, checksum=None, serialized_key_size=-1, serialized_value_size=247, serialized_header_size=-1)\n",
      "1a1e1666-49e4-4bbb-a859-ef83b01bdaed RecordMetadata(topic='kafka-hijir', partition=0, topic_partition=TopicPartition(topic='kafka-hijir', partition=0), offset=90, timestamp=1725900346794, log_start_offset=0, checksum=None, serialized_key_size=-1, serialized_value_size=247, serialized_header_size=-1)\n",
      "2d41865d-488e-4ec7-970d-cbf7f7b61a81 RecordMetadata(topic='kafka-hijir', partition=0, topic_partition=TopicPartition(topic='kafka-hijir', partition=0), offset=91, timestamp=1725900351802, log_start_offset=0, checksum=None, serialized_key_size=-1, serialized_value_size=245, serialized_header_size=-1)\n",
      "989d436d-5a69-4606-a601-6fb6a22a52d2 RecordMetadata(topic='kafka-hijir', partition=0, topic_partition=TopicPartition(topic='kafka-hijir', partition=0), offset=92, timestamp=1725900357080, log_start_offset=0, checksum=None, serialized_key_size=-1, serialized_value_size=254, serialized_header_size=-1)\n",
      "19a8f0fc-ddb5-47ef-9166-7011623b2096 RecordMetadata(topic='kafka-hijir', partition=0, topic_partition=TopicPartition(topic='kafka-hijir', partition=0), offset=93, timestamp=1725900362489, log_start_offset=0, checksum=None, serialized_key_size=-1, serialized_value_size=249, serialized_header_size=-1)\n",
      "0af10c34-e280-4e4b-81e9-f8cb58344ade RecordMetadata(topic='kafka-hijir', partition=0, topic_partition=TopicPartition(topic='kafka-hijir', partition=0), offset=94, timestamp=1725900368489, log_start_offset=0, checksum=None, serialized_key_size=-1, serialized_value_size=243, serialized_header_size=-1)\n"
     ]
    },
    {
     "ename": "NotLeaderForPartitionError",
     "evalue": "[Error 6] NotLeaderForPartitionError",
     "output_type": "error",
     "traceback": [
      "\u001b[0;31m---------------------------------------------------------------------------\u001b[0m",
      "\u001b[0;31mNotLeaderForPartitionError\u001b[0m                Traceback (most recent call last)",
      "Cell \u001b[0;32mIn[16], line 24\u001b[0m\n\u001b[1;32m     22\u001b[0m _payload \u001b[38;5;241m=\u001b[39m json\u001b[38;5;241m.\u001b[39mdumps(json_data)\u001b[38;5;241m.\u001b[39mencode(\u001b[38;5;124m\"\u001b[39m\u001b[38;5;124mutf-8\u001b[39m\u001b[38;5;124m\"\u001b[39m)\n\u001b[1;32m     23\u001b[0m response \u001b[38;5;241m=\u001b[39m producer\u001b[38;5;241m.\u001b[39msend(topic\u001b[38;5;241m=\u001b[39m\u001b[38;5;124m'\u001b[39m\u001b[38;5;124mkafka-hijir\u001b[39m\u001b[38;5;124m'\u001b[39m, value\u001b[38;5;241m=\u001b[39m_payload)\n\u001b[0;32m---> 24\u001b[0m \u001b[38;5;28mprint\u001b[39m(json_data[\u001b[38;5;124m'\u001b[39m\u001b[38;5;124mtransaction_id\u001b[39m\u001b[38;5;124m'\u001b[39m], \u001b[43mresponse\u001b[49m\u001b[38;5;241;43m.\u001b[39;49m\u001b[43mget\u001b[49m\u001b[43m(\u001b[49m\u001b[43m)\u001b[49m)\n\u001b[1;32m     25\u001b[0m sleep(\u001b[38;5;241m5\u001b[39m)  \u001b[38;5;66;03m# Sleep for 5 seconds between producing records\u001b[39;00m\n",
      "File \u001b[0;32m/opt/conda/lib/python3.10/site-packages/kafka/producer/future.py:65\u001b[0m, in \u001b[0;36mFutureRecordMetadata.get\u001b[0;34m(self, timeout)\u001b[0m\n\u001b[1;32m     63\u001b[0m \u001b[38;5;28;01massert\u001b[39;00m \u001b[38;5;28mself\u001b[39m\u001b[38;5;241m.\u001b[39mis_done\n\u001b[1;32m     64\u001b[0m \u001b[38;5;28;01mif\u001b[39;00m \u001b[38;5;28mself\u001b[39m\u001b[38;5;241m.\u001b[39mfailed():\n\u001b[0;32m---> 65\u001b[0m     \u001b[38;5;28;01mraise\u001b[39;00m \u001b[38;5;28mself\u001b[39m\u001b[38;5;241m.\u001b[39mexception \u001b[38;5;66;03m# pylint: disable-msg=raising-bad-type\u001b[39;00m\n\u001b[1;32m     66\u001b[0m \u001b[38;5;28;01mreturn\u001b[39;00m \u001b[38;5;28mself\u001b[39m\u001b[38;5;241m.\u001b[39mvalue\n",
      "\u001b[0;31mNotLeaderForPartitionError\u001b[0m: [Error 6] NotLeaderForPartitionError"
     ]
    }
   ],
   "source": [
    "class DataGenerator(object):\n",
    "    @staticmethod\n",
    "    def get_data():\n",
    "        return [\n",
    "                uuid.uuid4().__str__(),\n",
    "                faker.name(),\n",
    "                faker.random_element(elements=('Electronics', 'Clothing', 'Groceries', 'Sports', 'Books')),  # Product Category\n",
    "                faker.credit_card_number(),  # Payment Method (using credit card number for example)\n",
    "                faker.random_int(min=1, max=100),  # Quantity\n",
    "                faker.random_int(min=10, max=1000),  # Transaction Amount\n",
    "                faker.random_element(elements=('Success', 'Failed', 'Pending')),  # Transaction Status\n",
    "                faker.unix_time(),  # Timestamp of transaction\n",
    "        ]\n",
    "        \n",
    "\n",
    "for i in range(1,400):\n",
    "    columns = [\"transaction_id\", \"customer_name\", \"product_category\", \"payment_method\", \"quantity\", \"transaction_amount\", \"status\", \"timestamp\"]\n",
    "    data_list = DataGenerator.get_data()\n",
    "    json_data = dict(\n",
    "        zip(columns, data_list)\n",
    "    )\n",
    "    _payload = json.dumps(json_data).encode(\"utf-8\")\n",
    "    response = producer.send(topic='kafka-hijir', value=_payload)\n",
    "    print(json_data['transaction_id'], response.get())\n",
    "    sleep(5)  # Sleep for 5 seconds between producing records"
   ]
  },
  {
   "cell_type": "code",
   "execution_count": null,
   "id": "9ad95843-29f8-4160-997b-e6e71fac499b",
   "metadata": {},
   "outputs": [],
   "source": []
  }
 ],
 "metadata": {
  "kernelspec": {
   "display_name": "Python 3 (ipykernel)",
   "language": "python",
   "name": "python3"
  },
  "language_info": {
   "codemirror_mode": {
    "name": "ipython",
    "version": 3
   },
   "file_extension": ".py",
   "mimetype": "text/x-python",
   "name": "python",
   "nbconvert_exporter": "python",
   "pygments_lexer": "ipython3",
   "version": "3.10.10"
  }
 },
 "nbformat": 4,
 "nbformat_minor": 5
}
