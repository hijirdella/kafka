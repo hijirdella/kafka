{
 "cells": [
  {
   "cell_type": "code",
   "execution_count": 7,
   "id": "a4699cb4-a7a0-4911-9b22-e438d76d08da",
   "metadata": {
    "tags": []
   },
   "outputs": [],
   "source": [
    "import json\n",
    "import os\n",
    "from dotenv import load_dotenv\n",
    "from pathlib import Path\n",
    "from kafka import KafkaConsumer"
   ]
  },
  {
   "cell_type": "code",
   "execution_count": 8,
   "id": "d621e289-52fe-469d-bda4-bab10906049c",
   "metadata": {
    "tags": []
   },
   "outputs": [
    {
     "data": {
      "text/plain": [
       "True"
      ]
     },
     "execution_count": 8,
     "metadata": {},
     "output_type": "execute_result"
    }
   ],
   "source": [
    "# Mengambil variabel dari file .env\n",
    "dotenv_path = Path('/resources/.env')\n",
    "load_dotenv(dotenv_path=dotenv_path)"
   ]
  },
  {
   "cell_type": "code",
   "execution_count": null,
   "id": "512bce43-0f7c-4c37-83aa-cd6540715914",
   "metadata": {
    "tags": []
   },
   "outputs": [],
   "source": [
    "# Mengambil host Kafka dari variabel environment\n",
    "kafka_host = os.getenv('KAFKA_HOST')"
   ]
  },
  {
   "cell_type": "code",
   "execution_count": null,
   "id": "f8e10b2c-29e7-4517-b4df-cda9affbf302",
   "metadata": {
    "tags": []
   },
   "outputs": [],
   "source": [
    "# Inisialisasi Kafka Consumer untuk topik 'kafka-hijir'\n",
    "consumer = KafkaConsumer(\n",
    "    'kafka-hijir',  # Nama topik yang sama dengan Kafka Producer\n",
    "    group_id='group1',  # Group ID untuk consumer group\n",
    "    bootstrap_servers=[f'{kafka_host}:9092'],  # Kafka bootstrap server dari environment\n",
    "    auto_offset_reset='earliest',  # Mengambil pesan dari awal jika tidak ada offset yang disimpan\n",
    "    enable_auto_commit=True,  # Menyimpan offset secara otomatis setelah menerima pesan\n",
    "    value_deserializer=lambda x: json.loads(x.decode('utf-8'))  # Mengubah pesan dari JSON ke dictionary Python\n",
    ")\n",
    "\n",
    "# Loop untuk membaca dan menampilkan pesan dari Kafka\n",
    "for message in consumer:\n",
    "    print(f\"Pesan diterima dari topik: {message.topic}, partition: {message.partition}, offset: {message.offset}\")\n",
    "    print(f\"Key: {message.key}, Value: {message.value}\")\n",
    "    print(\"------------\")"
   ]
  },
  {
   "cell_type": "code",
   "execution_count": null,
   "id": "fb9433f5-06ce-4cd7-8c19-72d75284718e",
   "metadata": {},
   "outputs": [],
   "source": []
  }
 ],
 "metadata": {
  "kernelspec": {
   "display_name": "Python 3 (ipykernel)",
   "language": "python",
   "name": "python3"
  },
  "language_info": {
   "codemirror_mode": {
    "name": "ipython",
    "version": 3
   },
   "file_extension": ".py",
   "mimetype": "text/x-python",
   "name": "python",
   "nbconvert_exporter": "python",
   "pygments_lexer": "ipython3",
   "version": "3.10.10"
  }
 },
 "nbformat": 4,
 "nbformat_minor": 5
}
